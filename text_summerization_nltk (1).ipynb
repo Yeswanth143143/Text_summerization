{
  "nbformat": 4,
  "nbformat_minor": 0,
  "metadata": {
    "colab": {
      "name": "text_summerization_nltk.ipynb",
      "provenance": [],
      "toc_visible": true
    },
    "kernelspec": {
      "name": "python3",
      "display_name": "Python 3"
    }
  },
  "cells": [
    {
      "cell_type": "markdown",
      "metadata": {
        "id": "ItsLLbHNj0JC",
        "colab_type": "text"
      },
      "source": [
        "# Text summerization with nltk"
      ]
    },
    {
      "cell_type": "code",
      "metadata": {
        "id": "mNoQTGopjy5g",
        "colab_type": "code",
        "colab": {}
      },
      "source": [
        "from bs4 import BeautifulSoup  # import img libraries\n",
        "import requests\n",
        "import re\n",
        "import nltk\n",
        "import string"
      ],
      "execution_count": 0,
      "outputs": []
    },
    {
      "cell_type": "code",
      "metadata": {
        "id": "HkGLQ3Oh1g5o",
        "colab_type": "code",
        "colab": {}
      },
      "source": [
        "html=requests.get(\"https://en.wikipedia.org/wiki/Natural_language_processing\")"
      ],
      "execution_count": 0,
      "outputs": []
    },
    {
      "cell_type": "code",
      "metadata": {
        "id": "mA_UQqov171j",
        "colab_type": "code",
        "colab": {}
      },
      "source": [
        "soup=BeautifulSoup(html.content,'html.parser')"
      ],
      "execution_count": 0,
      "outputs": []
    },
    {
      "cell_type": "markdown",
      "metadata": {
        "id": "oE6gCoZgkjoP",
        "colab_type": "text"
      },
      "source": [
        "->Extracting the text from webpage."
      ]
    },
    {
      "cell_type": "code",
      "metadata": {
        "id": "WMgo0T1c2V5v",
        "colab_type": "code",
        "colab": {}
      },
      "source": [
        "text=''\n",
        "paras=soup.find_all('p')\n",
        "for i in range(len(paras)):\n",
        "    para=paras[i].get_text().strip()\n",
        "    text+=para"
      ],
      "execution_count": 0,
      "outputs": []
    },
    {
      "cell_type": "code",
      "metadata": {
        "id": "BY1AU1Lx3KG8",
        "colab_type": "code",
        "outputId": "e3150d74-3a5f-4704-c9c6-c9a91647fbfb",
        "colab": {
          "base_uri": "https://localhost:8080/",
          "height": 70
        }
      },
      "source": [
        "print(text)"
      ],
      "execution_count": 77,
      "outputs": [
        {
          "output_type": "stream",
          "text": [
            "Natural language processing (NLP) is a subfield of linguistics, computer science, information engineering, and artificial intelligence concerned with the interactions between computers and human (natural) languages, in particular how to program computers to process and analyze large amounts of natural language data.Challenges in natural language processing frequently involve speech recognition, natural language understanding, and natural language generation.The history of natural language processing (NLP) generally started in the 1950s, although work can be found from earlier periods.\n",
            "In 1950, Alan Turing published an article titled \"Computing Machinery and Intelligence\" which proposed what is now called the Turing test as a criterion of intelligence[clarification needed].The Georgetown experiment in 1954 involved fully automatic translation of more than sixty Russian sentences into English. The authors claimed that within three or five years, machine translation would be a solved problem.[2]  However, real progress was much slower, and after the ALPAC report in 1966, which found that ten-year-long research had failed to fulfill the expectations, funding for machine translation was dramatically reduced.  Little further research in machine translation was conducted until the late 1980s when the first statistical machine translation systems were developed.Some notably successful natural language processing systems developed in the 1960s were SHRDLU, a natural language system working in restricted \"blocks worlds\" with restricted vocabularies, and ELIZA, a simulation of a Rogerian psychotherapist, written by Joseph Weizenbaum between 1964 and 1966.  Using almost no information about human thought or emotion, ELIZA sometimes provided a startlingly human-like interaction. When the \"patient\" exceeded the very small knowledge base, ELIZA might provide a generic response, for example, responding to \"My head hurts\" with \"Why do you say your head hurts?\".During the 1970s, many programmers began to write \"conceptual ontologies\", which structured real-world information into computer-understandable data.  Examples are MARGIE (Schank, 1975), SAM (Cullingford, 1978), PAM (Wilensky, 1978), TaleSpin (Meehan, 1976), QUALM (Lehnert, 1977), Politics (Carbonell, 1979), and Plot Units (Lehnert 1981).  During this time, many chatterbots were written including PARRY, Racter, and Jabberwacky.Up to the 1980s, most natural language processing systems were based on complex sets of hand-written rules.  Starting in the late 1980s, however, there was a revolution in natural language processing with the introduction of machine learning algorithms for language processing.  This was due to both the steady increase in computational power (see Moore's law) and the gradual lessening of the dominance of Chomskyan theories of linguistics (e.g. transformational grammar), whose theoretical underpinnings discouraged the sort of corpus linguistics that underlies the machine-learning approach to language processing.[3] Some of the earliest-used machine learning algorithms, such as decision trees, produced systems of hard if-then rules similar to existing hand-written rules.  However, part-of-speech tagging introduced the use of hidden Markov models to natural language processing, and increasingly, research has focused on statistical models, which make soft, probabilistic decisions based on attaching real-valued weights to the features making up the input data. The cache language models upon which many speech recognition systems now rely are examples of such statistical models.  Such models are generally more robust when given unfamiliar input, especially input that contains errors (as is very common for real-world data), and produce more reliable results when integrated into a larger system comprising multiple subtasks.Many of the notable early successes occurred in the field of machine translation, due especially to work at IBM Research, where successively more complicated statistical models were developed.  These systems were able to take advantage of existing multilingual textual corpora that had been produced by the Parliament of Canada and the European Union as a result of laws calling for the translation of all governmental proceedings into all official languages of the corresponding systems of government.  However, most other systems depended on corpora specifically developed for the tasks implemented by these systems, which was (and often continues to be) a major limitation in the success of these systems. As a result, a great deal of research has gone into methods of more effectively learning from limited amounts of data.Recent research has increasingly focused on unsupervised and semi-supervised learning algorithms.  Such algorithms can learn from data that has not been hand-annotated with the desired answers or using a combination of annotated and non-annotated data.  Generally, this task is much more difficult than supervised learning, and typically produces less accurate results for a given amount of input data.  However, there is an enormous amount of non-annotated data available (including, among other things, the entire content of the World Wide Web), which can often make up for the inferior results if the algorithm used has a low enough time complexity to be practical.In the 2010s, representation learning and deep neural network-style machine learning methods became widespread in natural language processing, due in part to a flurry of results showing that such techniques[4][5] can achieve state-of-the-art results in many natural language tasks, for example in language modeling,[6] parsing,[7][8] and many others. Popular techniques include the use of word embeddings to capture semantic properties of words, and an increase in end-to-end learning of a higher-level task (e.g., question answering) instead of relying on a pipeline of separate intermediate tasks (e.g., part-of-speech tagging and dependency parsing). In some areas, this shift has entailed substantial changes in how NLP systems are designed, such that deep neural network-based approaches may be viewed as a new paradigm distinct from statistical natural language processing. For instance, the term neural machine translation (NMT) emphasizes the fact that deep learning-based approaches to machine translation directly learn sequence-to-sequence transformations, obviating the need for intermediate steps such as word alignment and language modeling that was used in statistical machine translation (SMT).In the early days, many language-processing systems were designed by hand-coding a set of rules:[9][10] such as by writing grammars or devising heuristic rules for stemming.Since the so-called \"statistical revolution\"[11][12] in the late 1980s and mid-1990s, much natural language processing research has relied heavily on machine learning. The machine-learning paradigm calls instead for using statistical inference to automatically learn such rules through the analysis of large corpora (the plural form of corpus, is a set of documents, possibly with human or computer annotations) of typical real-world examples.Many different classes of machine-learning algorithms have been applied to natural-language-processing tasks. These algorithms take as input a large set of \"features\" that are generated from the input data. Some of the earliest-used algorithms, such as decision trees, produced systems of hard if-then rules similar to the systems of handwritten rules that were then common. Increasingly, however, research has focused on statistical models, which make soft, probabilistic decisions based on attaching real-valued weights to each input feature. Such models have the advantage that they can express the relative certainty of many different possible answers rather than only one, producing more reliable results when such a model is included as a component of a larger system.Systems based on machine-learning algorithms have many advantages over hand-produced rules:The following is a list of some of the most commonly researched tasks in natural language processing. Some of these tasks have direct real-world applications, while others more commonly serve as subtasks that are used to aid in solving larger tasks.Though natural language processing tasks are closely intertwined, they are frequently subdivided into categories for convenience. A coarse division is given below.The first published work by an artificial intelligence was published in 2018, 1 the Road, marketed as a novel, contains sixty million words.\n"
          ],
          "name": "stdout"
        }
      ]
    },
    {
      "cell_type": "markdown",
      "metadata": {
        "id": "fArkFzWek1-h",
        "colab_type": "text"
      },
      "source": [
        "->Formating the extracted text from the webpage."
      ]
    },
    {
      "cell_type": "code",
      "metadata": {
        "id": "xOVGGAjT4s01",
        "colab_type": "code",
        "colab": {}
      },
      "source": [
        "article_text=text\n",
        "formatted_article_text=text.lower()\n",
        "formatted_article_text = re.sub('[^a-zA-Z]', ' ',formatted_article_text )\n",
        "formatted_article_text = re.sub(r'\\s+', ' ', formatted_article_text)"
      ],
      "execution_count": 0,
      "outputs": []
    },
    {
      "cell_type": "code",
      "metadata": {
        "id": "qg5p0OUm6PT5",
        "colab_type": "code",
        "outputId": "daf49e48-e333-4052-ad95-958f81a04c6d",
        "colab": {
          "base_uri": "https://localhost:8080/",
          "height": 54
        }
      },
      "source": [
        "print(formatted_article_text)"
      ],
      "execution_count": 86,
      "outputs": [
        {
          "output_type": "stream",
          "text": [
            "natural language processing nlp is a subfield of linguistics computer science information engineering and artificial intelligence concerned with the interactions between computers and human natural languages in particular how to program computers to process and analyze large amounts of natural language data challenges in natural language processing frequently involve speech recognition natural language understanding and natural language generation the history of natural language processing nlp generally started in the s although work can be found from earlier periods in alan turing published an article titled computing machinery and intelligence which proposed what is now called the turing test as a criterion of intelligence clarification needed the georgetown experiment in involved fully automatic translation of more than sixty russian sentences into english the authors claimed that within three or five years machine translation would be a solved problem however real progress was much slower and after the alpac report in which found that ten year long research had failed to fulfill the expectations funding for machine translation was dramatically reduced little further research in machine translation was conducted until the late s when the first statistical machine translation systems were developed some notably successful natural language processing systems developed in the s were shrdlu a natural language system working in restricted blocks worlds with restricted vocabularies and eliza a simulation of a rogerian psychotherapist written by joseph weizenbaum between and using almost no information about human thought or emotion eliza sometimes provided a startlingly human like interaction when the patient exceeded the very small knowledge base eliza might provide a generic response for example responding to my head hurts with why do you say your head hurts during the s many programmers began to write conceptual ontologies which structured real world information into computer understandable data examples are margie schank sam cullingford pam wilensky talespin meehan qualm lehnert politics carbonell and plot units lehnert during this time many chatterbots were written including parry racter and jabberwacky up to the s most natural language processing systems were based on complex sets of hand written rules starting in the late s however there was a revolution in natural language processing with the introduction of machine learning algorithms for language processing this was due to both the steady increase in computational power see moore s law and the gradual lessening of the dominance of chomskyan theories of linguistics e g transformational grammar whose theoretical underpinnings discouraged the sort of corpus linguistics that underlies the machine learning approach to language processing some of the earliest used machine learning algorithms such as decision trees produced systems of hard if then rules similar to existing hand written rules however part of speech tagging introduced the use of hidden markov models to natural language processing and increasingly research has focused on statistical models which make soft probabilistic decisions based on attaching real valued weights to the features making up the input data the cache language models upon which many speech recognition systems now rely are examples of such statistical models such models are generally more robust when given unfamiliar input especially input that contains errors as is very common for real world data and produce more reliable results when integrated into a larger system comprising multiple subtasks many of the notable early successes occurred in the field of machine translation due especially to work at ibm research where successively more complicated statistical models were developed these systems were able to take advantage of existing multilingual textual corpora that had been produced by the parliament of canada and the european union as a result of laws calling for the translation of all governmental proceedings into all official languages of the corresponding systems of government however most other systems depended on corpora specifically developed for the tasks implemented by these systems which was and often continues to be a major limitation in the success of these systems as a result a great deal of research has gone into methods of more effectively learning from limited amounts of data recent research has increasingly focused on unsupervised and semi supervised learning algorithms such algorithms can learn from data that has not been hand annotated with the desired answers or using a combination of annotated and non annotated data generally this task is much more difficult than supervised learning and typically produces less accurate results for a given amount of input data however there is an enormous amount of non annotated data available including among other things the entire content of the world wide web which can often make up for the inferior results if the algorithm used has a low enough time complexity to be practical in the s representation learning and deep neural network style machine learning methods became widespread in natural language processing due in part to a flurry of results showing that such techniques can achieve state of the art results in many natural language tasks for example in language modeling parsing and many others popular techniques include the use of word embeddings to capture semantic properties of words and an increase in end to end learning of a higher level task e g question answering instead of relying on a pipeline of separate intermediate tasks e g part of speech tagging and dependency parsing in some areas this shift has entailed substantial changes in how nlp systems are designed such that deep neural network based approaches may be viewed as a new paradigm distinct from statistical natural language processing for instance the term neural machine translation nmt emphasizes the fact that deep learning based approaches to machine translation directly learn sequence to sequence transformations obviating the need for intermediate steps such as word alignment and language modeling that was used in statistical machine translation smt in the early days many language processing systems were designed by hand coding a set of rules such as by writing grammars or devising heuristic rules for stemming since the so called statistical revolution in the late s and mid s much natural language processing research has relied heavily on machine learning the machine learning paradigm calls instead for using statistical inference to automatically learn such rules through the analysis of large corpora the plural form of corpus is a set of documents possibly with human or computer annotations of typical real world examples many different classes of machine learning algorithms have been applied to natural language processing tasks these algorithms take as input a large set of features that are generated from the input data some of the earliest used algorithms such as decision trees produced systems of hard if then rules similar to the systems of handwritten rules that were then common increasingly however research has focused on statistical models which make soft probabilistic decisions based on attaching real valued weights to each input feature such models have the advantage that they can express the relative certainty of many different possible answers rather than only one producing more reliable results when such a model is included as a component of a larger system systems based on machine learning algorithms have many advantages over hand produced rules the following is a list of some of the most commonly researched tasks in natural language processing some of these tasks have direct real world applications while others more commonly serve as subtasks that are used to aid in solving larger tasks though natural language processing tasks are closely intertwined they are frequently subdivided into categories for convenience a coarse division is given below the first published work by an artificial intelligence was published in the road marketed as a novel contains sixty million words \n"
          ],
          "name": "stdout"
        }
      ]
    },
    {
      "cell_type": "code",
      "metadata": {
        "id": "bGrB07FR9Unh",
        "colab_type": "code",
        "outputId": "85744f89-de7f-415a-ffe6-5ecdec77d6db",
        "colab": {
          "base_uri": "https://localhost:8080/",
          "height": 50
        }
      },
      "source": [
        " nltk.download('punkt')\n",
        " sentence_list=nltk.sent_tokenize(article_text)"
      ],
      "execution_count": 87,
      "outputs": [
        {
          "output_type": "stream",
          "text": [
            "[nltk_data] Downloading package punkt to /root/nltk_data...\n",
            "[nltk_data]   Package punkt is already up-to-date!\n"
          ],
          "name": "stdout"
        }
      ]
    },
    {
      "cell_type": "code",
      "metadata": {
        "id": "mrqoG39qAZZJ",
        "colab_type": "code",
        "outputId": "51896b60-c278-4478-e8fd-50a4dbf94cd5",
        "colab": {
          "base_uri": "https://localhost:8080/",
          "height": 70
        }
      },
      "source": [
        "print(len(sentence_list))\n",
        "print(sentence_list)   "
      ],
      "execution_count": 88,
      "outputs": [
        {
          "output_type": "stream",
          "text": [
            "33\n",
            "['Natural language processing (NLP) is a subfield of linguistics, computer science, information engineering, and artificial intelligence concerned with the interactions between computers and human (natural) languages, in particular how to program computers to process and analyze large amounts of natural language data.Challenges in natural language processing frequently involve speech recognition, natural language understanding, and natural language generation.The history of natural language processing (NLP) generally started in the 1950s, although work can be found from earlier periods.', 'In 1950, Alan Turing published an article titled \"Computing Machinery and Intelligence\" which proposed what is now called the Turing test as a criterion of intelligence[clarification needed].The Georgetown experiment in 1954 involved fully automatic translation of more than sixty Russian sentences into English.', 'The authors claimed that within three or five years, machine translation would be a solved problem.', '[2]  However, real progress was much slower, and after the ALPAC report in 1966, which found that ten-year-long research had failed to fulfill the expectations, funding for machine translation was dramatically reduced.', 'Little further research in machine translation was conducted until the late 1980s when the first statistical machine translation systems were developed.Some notably successful natural language processing systems developed in the 1960s were SHRDLU, a natural language system working in restricted \"blocks worlds\" with restricted vocabularies, and ELIZA, a simulation of a Rogerian psychotherapist, written by Joseph Weizenbaum between 1964 and 1966.', 'Using almost no information about human thought or emotion, ELIZA sometimes provided a startlingly human-like interaction.', 'When the \"patient\" exceeded the very small knowledge base, ELIZA might provide a generic response, for example, responding to \"My head hurts\" with \"Why do you say your head hurts?', '\".During the 1970s, many programmers began to write \"conceptual ontologies\", which structured real-world information into computer-understandable data.', 'Examples are MARGIE (Schank, 1975), SAM (Cullingford, 1978), PAM (Wilensky, 1978), TaleSpin (Meehan, 1976), QUALM (Lehnert, 1977), Politics (Carbonell, 1979), and Plot Units (Lehnert 1981).', 'During this time, many chatterbots were written including PARRY, Racter, and Jabberwacky.Up to the 1980s, most natural language processing systems were based on complex sets of hand-written rules.', 'Starting in the late 1980s, however, there was a revolution in natural language processing with the introduction of machine learning algorithms for language processing.', \"This was due to both the steady increase in computational power (see Moore's law) and the gradual lessening of the dominance of Chomskyan theories of linguistics (e.g.\", 'transformational grammar), whose theoretical underpinnings discouraged the sort of corpus linguistics that underlies the machine-learning approach to language processing.', '[3] Some of the earliest-used machine learning algorithms, such as decision trees, produced systems of hard if-then rules similar to existing hand-written rules.', 'However, part-of-speech tagging introduced the use of hidden Markov models to natural language processing, and increasingly, research has focused on statistical models, which make soft, probabilistic decisions based on attaching real-valued weights to the features making up the input data.', 'The cache language models upon which many speech recognition systems now rely are examples of such statistical models.', 'Such models are generally more robust when given unfamiliar input, especially input that contains errors (as is very common for real-world data), and produce more reliable results when integrated into a larger system comprising multiple subtasks.Many of the notable early successes occurred in the field of machine translation, due especially to work at IBM Research, where successively more complicated statistical models were developed.', 'These systems were able to take advantage of existing multilingual textual corpora that had been produced by the Parliament of Canada and the European Union as a result of laws calling for the translation of all governmental proceedings into all official languages of the corresponding systems of government.', 'However, most other systems depended on corpora specifically developed for the tasks implemented by these systems, which was (and often continues to be) a major limitation in the success of these systems.', 'As a result, a great deal of research has gone into methods of more effectively learning from limited amounts of data.Recent research has increasingly focused on unsupervised and semi-supervised learning algorithms.', 'Such algorithms can learn from data that has not been hand-annotated with the desired answers or using a combination of annotated and non-annotated data.', 'Generally, this task is much more difficult than supervised learning, and typically produces less accurate results for a given amount of input data.', 'However, there is an enormous amount of non-annotated data available (including, among other things, the entire content of the World Wide Web), which can often make up for the inferior results if the algorithm used has a low enough time complexity to be practical.In the 2010s, representation learning and deep neural network-style machine learning methods became widespread in natural language processing, due in part to a flurry of results showing that such techniques[4][5] can achieve state-of-the-art results in many natural language tasks, for example in language modeling,[6] parsing,[7][8] and many others.', 'Popular techniques include the use of word embeddings to capture semantic properties of words, and an increase in end-to-end learning of a higher-level task (e.g., question answering) instead of relying on a pipeline of separate intermediate tasks (e.g., part-of-speech tagging and dependency parsing).', 'In some areas, this shift has entailed substantial changes in how NLP systems are designed, such that deep neural network-based approaches may be viewed as a new paradigm distinct from statistical natural language processing.', 'For instance, the term neural machine translation (NMT) emphasizes the fact that deep learning-based approaches to machine translation directly learn sequence-to-sequence transformations, obviating the need for intermediate steps such as word alignment and language modeling that was used in statistical machine translation (SMT).In the early days, many language-processing systems were designed by hand-coding a set of rules:[9][10] such as by writing grammars or devising heuristic rules for stemming.Since the so-called \"statistical revolution\"[11][12] in the late 1980s and mid-1990s, much natural language processing research has relied heavily on machine learning.', 'The machine-learning paradigm calls instead for using statistical inference to automatically learn such rules through the analysis of large corpora (the plural form of corpus, is a set of documents, possibly with human or computer annotations) of typical real-world examples.Many different classes of machine-learning algorithms have been applied to natural-language-processing tasks.', 'These algorithms take as input a large set of \"features\" that are generated from the input data.', 'Some of the earliest-used algorithms, such as decision trees, produced systems of hard if-then rules similar to the systems of handwritten rules that were then common.', 'Increasingly, however, research has focused on statistical models, which make soft, probabilistic decisions based on attaching real-valued weights to each input feature.', 'Such models have the advantage that they can express the relative certainty of many different possible answers rather than only one, producing more reliable results when such a model is included as a component of a larger system.Systems based on machine-learning algorithms have many advantages over hand-produced rules:The following is a list of some of the most commonly researched tasks in natural language processing.', 'Some of these tasks have direct real-world applications, while others more commonly serve as subtasks that are used to aid in solving larger tasks.Though natural language processing tasks are closely intertwined, they are frequently subdivided into categories for convenience.', 'A coarse division is given below.The first published work by an artificial intelligence was published in 2018, 1 the Road, marketed as a novel, contains sixty million words.']\n"
          ],
          "name": "stdout"
        }
      ]
    },
    {
      "cell_type": "code",
      "metadata": {
        "id": "0iKHM5gwAkUd",
        "colab_type": "code",
        "outputId": "2cf6ed4a-d721-4307-ebf4-c3b9ef0084f0",
        "colab": {
          "base_uri": "https://localhost:8080/",
          "height": 50
        }
      },
      "source": [
        "nltk.download('stopwords')\n",
        "stopwords = nltk.corpus.stopwords.words('english')"
      ],
      "execution_count": 89,
      "outputs": [
        {
          "output_type": "stream",
          "text": [
            "[nltk_data] Downloading package stopwords to /root/nltk_data...\n",
            "[nltk_data]   Package stopwords is already up-to-date!\n"
          ],
          "name": "stdout"
        }
      ]
    },
    {
      "cell_type": "markdown",
      "metadata": {
        "id": "KsTZefvIp34B",
        "colab_type": "text"
      },
      "source": [
        "-> creating the frequencies for the words in the sentences and which are not in stopwords."
      ]
    },
    {
      "cell_type": "code",
      "metadata": {
        "id": "OFRKpWBpAyok",
        "colab_type": "code",
        "colab": {}
      },
      "source": [
        "word_frequencies={}\n",
        "for word in nltk.word_tokenize(formatted_article_text):\n",
        "    if word not in stopwords:\n",
        "        if word not in word_frequencies.keys():\n",
        "            word_frequencies[word] = 1\n",
        "        else:\n",
        "            word_frequencies[word] += 1"
      ],
      "execution_count": 0,
      "outputs": []
    },
    {
      "cell_type": "code",
      "metadata": {
        "id": "_8XuzBA5mnKD",
        "colab_type": "code",
        "outputId": "655050b9-6e24-4cba-ec22-00a4803241ec",
        "colab": {
          "base_uri": "https://localhost:8080/",
          "height": 54
        }
      },
      "source": [
        "print(word_frequencies)"
      ],
      "execution_count": 91,
      "outputs": [
        {
          "output_type": "stream",
          "text": [
            "{'natural': 19, 'language': 24, 'processing': 16, 'nlp': 3, 'subfield': 1, 'linguistics': 3, 'computer': 3, 'science': 1, 'information': 3, 'engineering': 1, 'artificial': 2, 'intelligence': 4, 'concerned': 1, 'interactions': 1, 'computers': 2, 'human': 4, 'languages': 2, 'particular': 1, 'program': 1, 'process': 1, 'analyze': 1, 'large': 3, 'amounts': 2, 'data': 10, 'challenges': 1, 'frequently': 2, 'involve': 1, 'speech': 4, 'recognition': 2, 'understanding': 1, 'generation': 1, 'history': 1, 'generally': 3, 'started': 1, 'although': 1, 'work': 3, 'found': 2, 'earlier': 1, 'periods': 1, 'alan': 1, 'turing': 2, 'published': 3, 'article': 1, 'titled': 1, 'computing': 1, 'machinery': 1, 'proposed': 1, 'called': 2, 'test': 1, 'criterion': 1, 'clarification': 1, 'needed': 1, 'georgetown': 1, 'experiment': 1, 'involved': 1, 'fully': 1, 'automatic': 1, 'translation': 10, 'sixty': 2, 'russian': 1, 'sentences': 1, 'english': 1, 'authors': 1, 'claimed': 1, 'within': 1, 'three': 1, 'five': 1, 'years': 1, 'machine': 16, 'would': 1, 'solved': 1, 'problem': 1, 'however': 6, 'real': 7, 'progress': 1, 'much': 3, 'slower': 1, 'alpac': 1, 'report': 1, 'ten': 1, 'year': 1, 'long': 1, 'research': 8, 'failed': 1, 'fulfill': 1, 'expectations': 1, 'funding': 1, 'dramatically': 1, 'reduced': 1, 'little': 1, 'conducted': 1, 'late': 3, 'first': 2, 'statistical': 9, 'systems': 15, 'developed': 4, 'notably': 1, 'successful': 1, 'shrdlu': 1, 'system': 3, 'working': 1, 'restricted': 2, 'blocks': 1, 'worlds': 1, 'vocabularies': 1, 'eliza': 3, 'simulation': 1, 'rogerian': 1, 'psychotherapist': 1, 'written': 4, 'joseph': 1, 'weizenbaum': 1, 'using': 3, 'almost': 1, 'thought': 1, 'emotion': 1, 'sometimes': 1, 'provided': 1, 'startlingly': 1, 'like': 1, 'interaction': 1, 'patient': 1, 'exceeded': 1, 'small': 1, 'knowledge': 1, 'base': 1, 'might': 1, 'provide': 1, 'generic': 1, 'response': 1, 'example': 2, 'responding': 1, 'head': 2, 'hurts': 2, 'say': 1, 'many': 10, 'programmers': 1, 'began': 1, 'write': 1, 'conceptual': 1, 'ontologies': 1, 'structured': 1, 'world': 5, 'understandable': 1, 'examples': 3, 'margie': 1, 'schank': 1, 'sam': 1, 'cullingford': 1, 'pam': 1, 'wilensky': 1, 'talespin': 1, 'meehan': 1, 'qualm': 1, 'lehnert': 2, 'politics': 1, 'carbonell': 1, 'plot': 1, 'units': 1, 'time': 2, 'chatterbots': 1, 'including': 2, 'parry': 1, 'racter': 1, 'jabberwacky': 1, 'based': 6, 'complex': 1, 'sets': 1, 'hand': 5, 'rules': 9, 'starting': 1, 'revolution': 2, 'introduction': 1, 'learning': 14, 'algorithms': 8, 'due': 3, 'steady': 1, 'increase': 2, 'computational': 1, 'power': 1, 'see': 1, 'moore': 1, 'law': 1, 'gradual': 1, 'lessening': 1, 'dominance': 1, 'chomskyan': 1, 'theories': 1, 'e': 3, 'g': 3, 'transformational': 1, 'grammar': 1, 'whose': 1, 'theoretical': 1, 'underpinnings': 1, 'discouraged': 1, 'sort': 1, 'corpus': 2, 'underlies': 1, 'approach': 1, 'earliest': 2, 'used': 5, 'decision': 2, 'trees': 2, 'produced': 4, 'hard': 2, 'similar': 2, 'existing': 2, 'part': 3, 'tagging': 2, 'introduced': 1, 'use': 2, 'hidden': 1, 'markov': 1, 'models': 8, 'increasingly': 3, 'focused': 3, 'make': 3, 'soft': 2, 'probabilistic': 2, 'decisions': 2, 'attaching': 2, 'valued': 2, 'weights': 2, 'features': 2, 'making': 1, 'input': 7, 'cache': 1, 'upon': 1, 'rely': 1, 'robust': 1, 'given': 3, 'unfamiliar': 1, 'especially': 2, 'contains': 2, 'errors': 1, 'common': 2, 'produce': 1, 'reliable': 2, 'results': 6, 'integrated': 1, 'larger': 3, 'comprising': 1, 'multiple': 1, 'subtasks': 2, 'notable': 1, 'early': 2, 'successes': 1, 'occurred': 1, 'field': 1, 'ibm': 1, 'successively': 1, 'complicated': 1, 'able': 1, 'take': 2, 'advantage': 2, 'multilingual': 1, 'textual': 1, 'corpora': 3, 'parliament': 1, 'canada': 1, 'european': 1, 'union': 1, 'result': 2, 'laws': 1, 'calling': 1, 'governmental': 1, 'proceedings': 1, 'official': 1, 'corresponding': 1, 'government': 1, 'depended': 1, 'specifically': 1, 'tasks': 8, 'implemented': 1, 'often': 2, 'continues': 1, 'major': 1, 'limitation': 1, 'success': 1, 'great': 1, 'deal': 1, 'gone': 1, 'methods': 2, 'effectively': 1, 'limited': 1, 'recent': 1, 'unsupervised': 1, 'semi': 1, 'supervised': 2, 'learn': 3, 'annotated': 4, 'desired': 1, 'answers': 2, 'combination': 1, 'non': 2, 'task': 2, 'difficult': 1, 'typically': 1, 'produces': 1, 'less': 1, 'accurate': 1, 'amount': 2, 'enormous': 1, 'available': 1, 'among': 1, 'things': 1, 'entire': 1, 'content': 1, 'wide': 1, 'web': 1, 'inferior': 1, 'algorithm': 1, 'low': 1, 'enough': 1, 'complexity': 1, 'practical': 1, 'representation': 1, 'deep': 3, 'neural': 3, 'network': 2, 'style': 1, 'became': 1, 'widespread': 1, 'flurry': 1, 'showing': 1, 'techniques': 2, 'achieve': 1, 'state': 1, 'art': 1, 'modeling': 2, 'parsing': 2, 'others': 2, 'popular': 1, 'include': 1, 'word': 2, 'embeddings': 1, 'capture': 1, 'semantic': 1, 'properties': 1, 'words': 2, 'end': 2, 'higher': 1, 'level': 1, 'question': 1, 'answering': 1, 'instead': 2, 'relying': 1, 'pipeline': 1, 'separate': 1, 'intermediate': 2, 'dependency': 1, 'areas': 1, 'shift': 1, 'entailed': 1, 'substantial': 1, 'changes': 1, 'designed': 2, 'approaches': 2, 'may': 1, 'viewed': 1, 'new': 1, 'paradigm': 2, 'distinct': 1, 'instance': 1, 'term': 1, 'nmt': 1, 'emphasizes': 1, 'fact': 1, 'directly': 1, 'sequence': 2, 'transformations': 1, 'obviating': 1, 'need': 1, 'steps': 1, 'alignment': 1, 'smt': 1, 'days': 1, 'coding': 1, 'set': 3, 'writing': 1, 'grammars': 1, 'devising': 1, 'heuristic': 1, 'stemming': 1, 'since': 1, 'mid': 1, 'relied': 1, 'heavily': 1, 'calls': 1, 'inference': 1, 'automatically': 1, 'analysis': 1, 'plural': 1, 'form': 1, 'documents': 1, 'possibly': 1, 'annotations': 1, 'typical': 1, 'different': 2, 'classes': 1, 'applied': 1, 'generated': 1, 'handwritten': 1, 'feature': 1, 'express': 1, 'relative': 1, 'certainty': 1, 'possible': 1, 'rather': 1, 'one': 1, 'producing': 1, 'model': 1, 'included': 1, 'component': 1, 'advantages': 1, 'following': 1, 'list': 1, 'commonly': 2, 'researched': 1, 'direct': 1, 'applications': 1, 'serve': 1, 'aid': 1, 'solving': 1, 'though': 1, 'closely': 1, 'intertwined': 1, 'subdivided': 1, 'categories': 1, 'convenience': 1, 'coarse': 1, 'division': 1, 'road': 1, 'marketed': 1, 'novel': 1, 'million': 1}\n"
          ],
          "name": "stdout"
        }
      ]
    },
    {
      "cell_type": "code",
      "metadata": {
        "id": "wAMO8yN7BD3W",
        "colab_type": "code",
        "outputId": "2cb0ee12-51e4-44ad-f6c4-da13cc07348e",
        "colab": {
          "base_uri": "https://localhost:8080/",
          "height": 70
        }
      },
      "source": [
        "maximum_frequncy = max(word_frequencies.values())\n",
        "print(maximum_frequncy)\n",
        "for word in word_frequencies.keys():\n",
        "    word_frequencies[word] = (word_frequencies[word]/maximum_frequncy)\n",
        "print(word_frequencies)    "
      ],
      "execution_count": 92,
      "outputs": [
        {
          "output_type": "stream",
          "text": [
            "24\n",
            "{'natural': 0.7916666666666666, 'language': 1.0, 'processing': 0.6666666666666666, 'nlp': 0.125, 'subfield': 0.041666666666666664, 'linguistics': 0.125, 'computer': 0.125, 'science': 0.041666666666666664, 'information': 0.125, 'engineering': 0.041666666666666664, 'artificial': 0.08333333333333333, 'intelligence': 0.16666666666666666, 'concerned': 0.041666666666666664, 'interactions': 0.041666666666666664, 'computers': 0.08333333333333333, 'human': 0.16666666666666666, 'languages': 0.08333333333333333, 'particular': 0.041666666666666664, 'program': 0.041666666666666664, 'process': 0.041666666666666664, 'analyze': 0.041666666666666664, 'large': 0.125, 'amounts': 0.08333333333333333, 'data': 0.4166666666666667, 'challenges': 0.041666666666666664, 'frequently': 0.08333333333333333, 'involve': 0.041666666666666664, 'speech': 0.16666666666666666, 'recognition': 0.08333333333333333, 'understanding': 0.041666666666666664, 'generation': 0.041666666666666664, 'history': 0.041666666666666664, 'generally': 0.125, 'started': 0.041666666666666664, 'although': 0.041666666666666664, 'work': 0.125, 'found': 0.08333333333333333, 'earlier': 0.041666666666666664, 'periods': 0.041666666666666664, 'alan': 0.041666666666666664, 'turing': 0.08333333333333333, 'published': 0.125, 'article': 0.041666666666666664, 'titled': 0.041666666666666664, 'computing': 0.041666666666666664, 'machinery': 0.041666666666666664, 'proposed': 0.041666666666666664, 'called': 0.08333333333333333, 'test': 0.041666666666666664, 'criterion': 0.041666666666666664, 'clarification': 0.041666666666666664, 'needed': 0.041666666666666664, 'georgetown': 0.041666666666666664, 'experiment': 0.041666666666666664, 'involved': 0.041666666666666664, 'fully': 0.041666666666666664, 'automatic': 0.041666666666666664, 'translation': 0.4166666666666667, 'sixty': 0.08333333333333333, 'russian': 0.041666666666666664, 'sentences': 0.041666666666666664, 'english': 0.041666666666666664, 'authors': 0.041666666666666664, 'claimed': 0.041666666666666664, 'within': 0.041666666666666664, 'three': 0.041666666666666664, 'five': 0.041666666666666664, 'years': 0.041666666666666664, 'machine': 0.6666666666666666, 'would': 0.041666666666666664, 'solved': 0.041666666666666664, 'problem': 0.041666666666666664, 'however': 0.25, 'real': 0.2916666666666667, 'progress': 0.041666666666666664, 'much': 0.125, 'slower': 0.041666666666666664, 'alpac': 0.041666666666666664, 'report': 0.041666666666666664, 'ten': 0.041666666666666664, 'year': 0.041666666666666664, 'long': 0.041666666666666664, 'research': 0.3333333333333333, 'failed': 0.041666666666666664, 'fulfill': 0.041666666666666664, 'expectations': 0.041666666666666664, 'funding': 0.041666666666666664, 'dramatically': 0.041666666666666664, 'reduced': 0.041666666666666664, 'little': 0.041666666666666664, 'conducted': 0.041666666666666664, 'late': 0.125, 'first': 0.08333333333333333, 'statistical': 0.375, 'systems': 0.625, 'developed': 0.16666666666666666, 'notably': 0.041666666666666664, 'successful': 0.041666666666666664, 'shrdlu': 0.041666666666666664, 'system': 0.125, 'working': 0.041666666666666664, 'restricted': 0.08333333333333333, 'blocks': 0.041666666666666664, 'worlds': 0.041666666666666664, 'vocabularies': 0.041666666666666664, 'eliza': 0.125, 'simulation': 0.041666666666666664, 'rogerian': 0.041666666666666664, 'psychotherapist': 0.041666666666666664, 'written': 0.16666666666666666, 'joseph': 0.041666666666666664, 'weizenbaum': 0.041666666666666664, 'using': 0.125, 'almost': 0.041666666666666664, 'thought': 0.041666666666666664, 'emotion': 0.041666666666666664, 'sometimes': 0.041666666666666664, 'provided': 0.041666666666666664, 'startlingly': 0.041666666666666664, 'like': 0.041666666666666664, 'interaction': 0.041666666666666664, 'patient': 0.041666666666666664, 'exceeded': 0.041666666666666664, 'small': 0.041666666666666664, 'knowledge': 0.041666666666666664, 'base': 0.041666666666666664, 'might': 0.041666666666666664, 'provide': 0.041666666666666664, 'generic': 0.041666666666666664, 'response': 0.041666666666666664, 'example': 0.08333333333333333, 'responding': 0.041666666666666664, 'head': 0.08333333333333333, 'hurts': 0.08333333333333333, 'say': 0.041666666666666664, 'many': 0.4166666666666667, 'programmers': 0.041666666666666664, 'began': 0.041666666666666664, 'write': 0.041666666666666664, 'conceptual': 0.041666666666666664, 'ontologies': 0.041666666666666664, 'structured': 0.041666666666666664, 'world': 0.20833333333333334, 'understandable': 0.041666666666666664, 'examples': 0.125, 'margie': 0.041666666666666664, 'schank': 0.041666666666666664, 'sam': 0.041666666666666664, 'cullingford': 0.041666666666666664, 'pam': 0.041666666666666664, 'wilensky': 0.041666666666666664, 'talespin': 0.041666666666666664, 'meehan': 0.041666666666666664, 'qualm': 0.041666666666666664, 'lehnert': 0.08333333333333333, 'politics': 0.041666666666666664, 'carbonell': 0.041666666666666664, 'plot': 0.041666666666666664, 'units': 0.041666666666666664, 'time': 0.08333333333333333, 'chatterbots': 0.041666666666666664, 'including': 0.08333333333333333, 'parry': 0.041666666666666664, 'racter': 0.041666666666666664, 'jabberwacky': 0.041666666666666664, 'based': 0.25, 'complex': 0.041666666666666664, 'sets': 0.041666666666666664, 'hand': 0.20833333333333334, 'rules': 0.375, 'starting': 0.041666666666666664, 'revolution': 0.08333333333333333, 'introduction': 0.041666666666666664, 'learning': 0.5833333333333334, 'algorithms': 0.3333333333333333, 'due': 0.125, 'steady': 0.041666666666666664, 'increase': 0.08333333333333333, 'computational': 0.041666666666666664, 'power': 0.041666666666666664, 'see': 0.041666666666666664, 'moore': 0.041666666666666664, 'law': 0.041666666666666664, 'gradual': 0.041666666666666664, 'lessening': 0.041666666666666664, 'dominance': 0.041666666666666664, 'chomskyan': 0.041666666666666664, 'theories': 0.041666666666666664, 'e': 0.125, 'g': 0.125, 'transformational': 0.041666666666666664, 'grammar': 0.041666666666666664, 'whose': 0.041666666666666664, 'theoretical': 0.041666666666666664, 'underpinnings': 0.041666666666666664, 'discouraged': 0.041666666666666664, 'sort': 0.041666666666666664, 'corpus': 0.08333333333333333, 'underlies': 0.041666666666666664, 'approach': 0.041666666666666664, 'earliest': 0.08333333333333333, 'used': 0.20833333333333334, 'decision': 0.08333333333333333, 'trees': 0.08333333333333333, 'produced': 0.16666666666666666, 'hard': 0.08333333333333333, 'similar': 0.08333333333333333, 'existing': 0.08333333333333333, 'part': 0.125, 'tagging': 0.08333333333333333, 'introduced': 0.041666666666666664, 'use': 0.08333333333333333, 'hidden': 0.041666666666666664, 'markov': 0.041666666666666664, 'models': 0.3333333333333333, 'increasingly': 0.125, 'focused': 0.125, 'make': 0.125, 'soft': 0.08333333333333333, 'probabilistic': 0.08333333333333333, 'decisions': 0.08333333333333333, 'attaching': 0.08333333333333333, 'valued': 0.08333333333333333, 'weights': 0.08333333333333333, 'features': 0.08333333333333333, 'making': 0.041666666666666664, 'input': 0.2916666666666667, 'cache': 0.041666666666666664, 'upon': 0.041666666666666664, 'rely': 0.041666666666666664, 'robust': 0.041666666666666664, 'given': 0.125, 'unfamiliar': 0.041666666666666664, 'especially': 0.08333333333333333, 'contains': 0.08333333333333333, 'errors': 0.041666666666666664, 'common': 0.08333333333333333, 'produce': 0.041666666666666664, 'reliable': 0.08333333333333333, 'results': 0.25, 'integrated': 0.041666666666666664, 'larger': 0.125, 'comprising': 0.041666666666666664, 'multiple': 0.041666666666666664, 'subtasks': 0.08333333333333333, 'notable': 0.041666666666666664, 'early': 0.08333333333333333, 'successes': 0.041666666666666664, 'occurred': 0.041666666666666664, 'field': 0.041666666666666664, 'ibm': 0.041666666666666664, 'successively': 0.041666666666666664, 'complicated': 0.041666666666666664, 'able': 0.041666666666666664, 'take': 0.08333333333333333, 'advantage': 0.08333333333333333, 'multilingual': 0.041666666666666664, 'textual': 0.041666666666666664, 'corpora': 0.125, 'parliament': 0.041666666666666664, 'canada': 0.041666666666666664, 'european': 0.041666666666666664, 'union': 0.041666666666666664, 'result': 0.08333333333333333, 'laws': 0.041666666666666664, 'calling': 0.041666666666666664, 'governmental': 0.041666666666666664, 'proceedings': 0.041666666666666664, 'official': 0.041666666666666664, 'corresponding': 0.041666666666666664, 'government': 0.041666666666666664, 'depended': 0.041666666666666664, 'specifically': 0.041666666666666664, 'tasks': 0.3333333333333333, 'implemented': 0.041666666666666664, 'often': 0.08333333333333333, 'continues': 0.041666666666666664, 'major': 0.041666666666666664, 'limitation': 0.041666666666666664, 'success': 0.041666666666666664, 'great': 0.041666666666666664, 'deal': 0.041666666666666664, 'gone': 0.041666666666666664, 'methods': 0.08333333333333333, 'effectively': 0.041666666666666664, 'limited': 0.041666666666666664, 'recent': 0.041666666666666664, 'unsupervised': 0.041666666666666664, 'semi': 0.041666666666666664, 'supervised': 0.08333333333333333, 'learn': 0.125, 'annotated': 0.16666666666666666, 'desired': 0.041666666666666664, 'answers': 0.08333333333333333, 'combination': 0.041666666666666664, 'non': 0.08333333333333333, 'task': 0.08333333333333333, 'difficult': 0.041666666666666664, 'typically': 0.041666666666666664, 'produces': 0.041666666666666664, 'less': 0.041666666666666664, 'accurate': 0.041666666666666664, 'amount': 0.08333333333333333, 'enormous': 0.041666666666666664, 'available': 0.041666666666666664, 'among': 0.041666666666666664, 'things': 0.041666666666666664, 'entire': 0.041666666666666664, 'content': 0.041666666666666664, 'wide': 0.041666666666666664, 'web': 0.041666666666666664, 'inferior': 0.041666666666666664, 'algorithm': 0.041666666666666664, 'low': 0.041666666666666664, 'enough': 0.041666666666666664, 'complexity': 0.041666666666666664, 'practical': 0.041666666666666664, 'representation': 0.041666666666666664, 'deep': 0.125, 'neural': 0.125, 'network': 0.08333333333333333, 'style': 0.041666666666666664, 'became': 0.041666666666666664, 'widespread': 0.041666666666666664, 'flurry': 0.041666666666666664, 'showing': 0.041666666666666664, 'techniques': 0.08333333333333333, 'achieve': 0.041666666666666664, 'state': 0.041666666666666664, 'art': 0.041666666666666664, 'modeling': 0.08333333333333333, 'parsing': 0.08333333333333333, 'others': 0.08333333333333333, 'popular': 0.041666666666666664, 'include': 0.041666666666666664, 'word': 0.08333333333333333, 'embeddings': 0.041666666666666664, 'capture': 0.041666666666666664, 'semantic': 0.041666666666666664, 'properties': 0.041666666666666664, 'words': 0.08333333333333333, 'end': 0.08333333333333333, 'higher': 0.041666666666666664, 'level': 0.041666666666666664, 'question': 0.041666666666666664, 'answering': 0.041666666666666664, 'instead': 0.08333333333333333, 'relying': 0.041666666666666664, 'pipeline': 0.041666666666666664, 'separate': 0.041666666666666664, 'intermediate': 0.08333333333333333, 'dependency': 0.041666666666666664, 'areas': 0.041666666666666664, 'shift': 0.041666666666666664, 'entailed': 0.041666666666666664, 'substantial': 0.041666666666666664, 'changes': 0.041666666666666664, 'designed': 0.08333333333333333, 'approaches': 0.08333333333333333, 'may': 0.041666666666666664, 'viewed': 0.041666666666666664, 'new': 0.041666666666666664, 'paradigm': 0.08333333333333333, 'distinct': 0.041666666666666664, 'instance': 0.041666666666666664, 'term': 0.041666666666666664, 'nmt': 0.041666666666666664, 'emphasizes': 0.041666666666666664, 'fact': 0.041666666666666664, 'directly': 0.041666666666666664, 'sequence': 0.08333333333333333, 'transformations': 0.041666666666666664, 'obviating': 0.041666666666666664, 'need': 0.041666666666666664, 'steps': 0.041666666666666664, 'alignment': 0.041666666666666664, 'smt': 0.041666666666666664, 'days': 0.041666666666666664, 'coding': 0.041666666666666664, 'set': 0.125, 'writing': 0.041666666666666664, 'grammars': 0.041666666666666664, 'devising': 0.041666666666666664, 'heuristic': 0.041666666666666664, 'stemming': 0.041666666666666664, 'since': 0.041666666666666664, 'mid': 0.041666666666666664, 'relied': 0.041666666666666664, 'heavily': 0.041666666666666664, 'calls': 0.041666666666666664, 'inference': 0.041666666666666664, 'automatically': 0.041666666666666664, 'analysis': 0.041666666666666664, 'plural': 0.041666666666666664, 'form': 0.041666666666666664, 'documents': 0.041666666666666664, 'possibly': 0.041666666666666664, 'annotations': 0.041666666666666664, 'typical': 0.041666666666666664, 'different': 0.08333333333333333, 'classes': 0.041666666666666664, 'applied': 0.041666666666666664, 'generated': 0.041666666666666664, 'handwritten': 0.041666666666666664, 'feature': 0.041666666666666664, 'express': 0.041666666666666664, 'relative': 0.041666666666666664, 'certainty': 0.041666666666666664, 'possible': 0.041666666666666664, 'rather': 0.041666666666666664, 'one': 0.041666666666666664, 'producing': 0.041666666666666664, 'model': 0.041666666666666664, 'included': 0.041666666666666664, 'component': 0.041666666666666664, 'advantages': 0.041666666666666664, 'following': 0.041666666666666664, 'list': 0.041666666666666664, 'commonly': 0.08333333333333333, 'researched': 0.041666666666666664, 'direct': 0.041666666666666664, 'applications': 0.041666666666666664, 'serve': 0.041666666666666664, 'aid': 0.041666666666666664, 'solving': 0.041666666666666664, 'though': 0.041666666666666664, 'closely': 0.041666666666666664, 'intertwined': 0.041666666666666664, 'subdivided': 0.041666666666666664, 'categories': 0.041666666666666664, 'convenience': 0.041666666666666664, 'coarse': 0.041666666666666664, 'division': 0.041666666666666664, 'road': 0.041666666666666664, 'marketed': 0.041666666666666664, 'novel': 0.041666666666666664, 'million': 0.041666666666666664}\n"
          ],
          "name": "stdout"
        }
      ]
    },
    {
      "cell_type": "markdown",
      "metadata": {
        "id": "5EyzW-3Or5VN",
        "colab_type": "text"
      },
      "source": [
        "-> Creating the scores to the sentences."
      ]
    },
    {
      "cell_type": "code",
      "metadata": {
        "id": "jwNOHyplBQa3",
        "colab_type": "code",
        "colab": {}
      },
      "source": [
        "sentence_scores = {}\n",
        "for sent in sentence_list:\n",
        "   for word in nltk.word_tokenize(sent):\n",
        "        if word in word_frequencies.keys():\n",
        "            if len(sent.split(' ')) < 30:\n",
        "                if sent not in sentence_scores.keys():\n",
        "                    sentence_scores[sent] = word_frequencies[word]\n",
        "                else:\n",
        "                    sentence_scores[sent] += word_frequencies[word]"
      ],
      "execution_count": 0,
      "outputs": []
    },
    {
      "cell_type": "code",
      "metadata": {
        "id": "JVEHX12UCAmI",
        "colab_type": "code",
        "outputId": "9b3fb4b8-8f25-4a22-bee6-22ce83f4ff14",
        "colab": {
          "base_uri": "https://localhost:8080/",
          "height": 54
        }
      },
      "source": [
        "print(sentence_scores)"
      ],
      "execution_count": 94,
      "outputs": [
        {
          "output_type": "stream",
          "text": [
            "{'The authors claimed that within three or five years, machine translation would be a solved problem.': 1.4583333333333335, 'Using almost no information about human thought or emotion, ELIZA sometimes provided a startlingly human-like interaction.': 0.5833333333333333, '\".During the 1970s, many programmers began to write \"conceptual ontologies\", which structured real-world information into computer-understandable data.': 1.2083333333333333, 'During this time, many chatterbots were written including PARRY, Racter, and Jabberwacky.Up to the 1980s, most natural language processing systems were based on complex sets of hand-written rules.': 4.583333333333334, 'Starting in the late 1980s, however, there was a revolution in natural language processing with the introduction of machine learning algorithms for language processing.': 6.208333333333333, \"This was due to both the steady increase in computational power (see Moore's law) and the gradual lessening of the dominance of Chomskyan theories of linguistics (e.g.\": 0.7083333333333334, 'transformational grammar), whose theoretical underpinnings discouraged the sort of corpus linguistics that underlies the machine-learning approach to language processing.': 2.25, '[3] Some of the earliest-used machine learning algorithms, such as decision trees, produced systems of hard if-then rules similar to existing hand-written rules.': 3.541666666666667, 'The cache language models upon which many speech recognition systems now rely are examples of such statistical models.': 3.5833333333333335, 'Such algorithms can learn from data that has not been hand-annotated with the desired answers or using a combination of annotated and non-annotated data.': 1.7500000000000002, 'Generally, this task is much more difficult than supervised learning, and typically produces less accurate results for a given amount of input data.': 2.25, 'These algorithms take as input a large set of \"features\" that are generated from the input data.': 1.7916666666666667, 'Some of the earliest-used algorithms, such as decision trees, produced systems of hard if-then rules similar to the systems of handwritten rules that were then common.': 2.958333333333333, 'Increasingly, however, research has focused on statistical models, which make soft, probabilistic decisions based on attaching real-valued weights to each input feature.': 2.541666666666666, 'A coarse division is given below.The first published work by an artificial intelligence was published in 2018, 1 the Road, marketed as a novel, contains sixty million words.': 1.2916666666666665}\n"
          ],
          "name": "stdout"
        }
      ]
    },
    {
      "cell_type": "markdown",
      "metadata": {
        "id": "-MdDcWLezUmw",
        "colab_type": "text"
      },
      "source": [
        "->Finally we obtained the summery."
      ]
    },
    {
      "cell_type": "code",
      "metadata": {
        "id": "Aq1t8f9lBa9t",
        "colab_type": "code",
        "outputId": "77381e4e-7601-4fda-a000-6850d772a46d",
        "colab": {
          "base_uri": "https://localhost:8080/",
          "height": 54
        }
      },
      "source": [
        "import heapq\n",
        "summary_sentences = heapq.nlargest(10, sentence_scores, key=sentence_scores.get)\n",
        "summary = ' '.join(summary_sentences)\n",
        "print(summary)"
      ],
      "execution_count": 95,
      "outputs": [
        {
          "output_type": "stream",
          "text": [
            "Starting in the late 1980s, however, there was a revolution in natural language processing with the introduction of machine learning algorithms for language processing. During this time, many chatterbots were written including PARRY, Racter, and Jabberwacky.Up to the 1980s, most natural language processing systems were based on complex sets of hand-written rules. The cache language models upon which many speech recognition systems now rely are examples of such statistical models. [3] Some of the earliest-used machine learning algorithms, such as decision trees, produced systems of hard if-then rules similar to existing hand-written rules. Some of the earliest-used algorithms, such as decision trees, produced systems of hard if-then rules similar to the systems of handwritten rules that were then common. Increasingly, however, research has focused on statistical models, which make soft, probabilistic decisions based on attaching real-valued weights to each input feature. transformational grammar), whose theoretical underpinnings discouraged the sort of corpus linguistics that underlies the machine-learning approach to language processing. Generally, this task is much more difficult than supervised learning, and typically produces less accurate results for a given amount of input data. These algorithms take as input a large set of \"features\" that are generated from the input data. Such algorithms can learn from data that has not been hand-annotated with the desired answers or using a combination of annotated and non-annotated data.\n"
          ],
          "name": "stdout"
        }
      ]
    }
  ]
}